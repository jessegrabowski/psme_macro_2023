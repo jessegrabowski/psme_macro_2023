{
 "cells": [
  {
   "cell_type": "markdown",
   "id": "28152765",
   "metadata": {
    "toc": true
   },
   "source": [
    "<h1>Table of Contents<span class=\"tocSkip\"></span></h1>\n",
    "<div class=\"toc\"><ul class=\"toc-item\"><li><span><a href=\"#Imports\" data-toc-modified-id=\"Imports-1\"><span class=\"toc-item-num\">1&nbsp;&nbsp;</span>Imports</a></span><ul class=\"toc-item\"><li><span><a href=\"#Numpy-Arrays\" data-toc-modified-id=\"Numpy-Arrays-1.1\"><span class=\"toc-item-num\">1.1&nbsp;&nbsp;</span>Numpy Arrays</a></span><ul class=\"toc-item\"><li><span><a href=\"#Shapes\" data-toc-modified-id=\"Shapes-1.1.1\"><span class=\"toc-item-num\">1.1.1&nbsp;&nbsp;</span>Shapes</a></span></li><li><span><a href=\"#Some-useful-functions\" data-toc-modified-id=\"Some-useful-functions-1.1.2\"><span class=\"toc-item-num\">1.1.2&nbsp;&nbsp;</span>Some useful functions</a></span></li><li><span><a href=\"#Getting-array-values\" data-toc-modified-id=\"Getting-array-values-1.1.3\"><span class=\"toc-item-num\">1.1.3&nbsp;&nbsp;</span>Getting array values</a></span></li><li><span><a href=\"#Setting-Values\" data-toc-modified-id=\"Setting-Values-1.1.4\"><span class=\"toc-item-num\">1.1.4&nbsp;&nbsp;</span>Setting Values</a></span></li><li><span><a href=\"#Assignment-3:\" data-toc-modified-id=\"Assignment-3:-1.1.5\"><span class=\"toc-item-num\">1.1.5&nbsp;&nbsp;</span>Assignment 3:</a></span></li></ul></li></ul></li><li><span><a href=\"#Functions\" data-toc-modified-id=\"Functions-2\"><span class=\"toc-item-num\">2&nbsp;&nbsp;</span>Functions</a></span><ul class=\"toc-item\"><li><span><a href=\"#Quick-Aside:-Plotting\" data-toc-modified-id=\"Quick-Aside:-Plotting-2.1\"><span class=\"toc-item-num\">2.1&nbsp;&nbsp;</span>Quick Aside: Plotting</a></span></li><li><span><a href=\"#Assignment:-IS-TR-Model\" data-toc-modified-id=\"Assignment:-IS-TR-Model-2.2\"><span class=\"toc-item-num\">2.2&nbsp;&nbsp;</span>Assignment: IS-TR Model</a></span></li><li><span><a href=\"#Assignment:-Plot-IS-TR-Equlibrium\" data-toc-modified-id=\"Assignment:-Plot-IS-TR-Equlibrium-2.3\"><span class=\"toc-item-num\">2.3&nbsp;&nbsp;</span>Assignment: Plot IS-TR Equlibrium</a></span></li><li><span><a href=\"#Assignment:-Add-a-shock\" data-toc-modified-id=\"Assignment:-Add-a-shock-2.4\"><span class=\"toc-item-num\">2.4&nbsp;&nbsp;</span>Assignment: Add a shock</a></span></li></ul></li></ul></div>"
   ]
  },
  {
   "cell_type": "markdown",
   "id": "60bb73ad",
   "metadata": {},
   "source": [
    "# Imports\n",
    "\n",
    "Python comes with only the most basic primitives programmers need to get started. To do anything interesting, we need to bring in extra code that other people have written. This code comes in \"packages\". We import packages using the `import` command. All of your Jupyter notebooks will always start with a set of `import` commands. Let's import `numpy`, a popular package for working with data arrays, and `matplotlib.pyplot`, a super customizable package for making graphs.\n",
    "\n",
    "To over simplify things, `numpy` is Python's version of Matlab."
   ]
  },
  {
   "cell_type": "code",
   "execution_count": 2,
   "id": "57f5b1a5",
   "metadata": {},
   "outputs": [],
   "source": [
    "import numpy as np"
   ]
  },
  {
   "cell_type": "markdown",
   "id": "e95a212a",
   "metadata": {},
   "source": [
    "Notice that we write `import numpy as np`. \"as np\" means \"give me numpy, but also rename it to np\". We do this because it's shorter. You can give it any name you want, but you will find that everyone has agreed on what the short name is \"supposed\" to be. For numpy, it's np. For matplotlib it's `plt`, so we import that as follows:"
   ]
  },
  {
   "cell_type": "code",
   "execution_count": 3,
   "id": "c99de5ee",
   "metadata": {},
   "outputs": [],
   "source": [
    "import matplotlib.pyplot as plt"
   ]
  },
  {
   "cell_type": "markdown",
   "id": "cc52318c",
   "metadata": {},
   "source": [
    "## Numpy Arrays\n",
    "\n",
    "Arrays like generalized matrices. A matrix is a 2d array. A vector is a 1d array. A scalar is a 0d array. In short, arrays are python objects that represent vectors, matrices, and higher dimensional tensors. Unlike lists, that just hold data, arrays are suitable for doing math on."
   ]
  },
  {
   "cell_type": "code",
   "execution_count": 4,
   "id": "318c6879",
   "metadata": {},
   "outputs": [],
   "source": [
    "x_array = np.array([1, 2, 3])\n",
    "x_list = [1, 2, 3]"
   ]
  },
  {
   "cell_type": "markdown",
   "id": "c1ec0e29",
   "metadata": {},
   "source": [
    "Doing math on arrays causes the operations to be applied to every element in the array. You can do anything to arrays, even hand them to funtions like `np.cos`"
   ]
  },
  {
   "cell_type": "code",
   "execution_count": 5,
   "id": "35b34a03",
   "metadata": {},
   "outputs": [
    {
     "name": "stdout",
     "output_type": "stream",
     "text": [
      "Array plus 1: [2 3 4]\n",
      "Array times 10: [10 20 30]\n",
      "Array times array: [1 4 9]\n",
      "Cosine array: [ 0.54030231 -0.41614684 -0.9899925 ]\n"
     ]
    }
   ],
   "source": [
    "print(f'Array plus 1: {x_array + 1}')\n",
    "print(f'Array times 10: {x_array * 10}')\n",
    "print(f'Array times array: {x_array * x_array}')\n",
    "print(f'Cosine array: {np.cos(x_array)}')"
   ]
  },
  {
   "cell_type": "markdown",
   "id": "7cacbd66",
   "metadata": {},
   "source": [
    "On the other hand, if you try this with lists, you will get some very unexpected results. Addition raises as error:"
   ]
  },
  {
   "cell_type": "code",
   "execution_count": 6,
   "id": "20521d15",
   "metadata": {},
   "outputs": [
    {
     "ename": "TypeError",
     "evalue": "can only concatenate list (not \"int\") to list",
     "output_type": "error",
     "traceback": [
      "\u001b[1;31m---------------------------------------------------------------------------\u001b[0m",
      "\u001b[1;31mTypeError\u001b[0m                                 Traceback (most recent call last)",
      "Cell \u001b[1;32mIn[6], line 1\u001b[0m\n\u001b[1;32m----> 1\u001b[0m \u001b[43mx_list\u001b[49m\u001b[43m \u001b[49m\u001b[38;5;241;43m+\u001b[39;49m\u001b[43m \u001b[49m\u001b[38;5;241;43m1\u001b[39;49m\n",
      "\u001b[1;31mTypeError\u001b[0m: can only concatenate list (not \"int\") to list"
     ]
    }
   ],
   "source": [
    "x_list + 1"
   ]
  },
  {
   "cell_type": "markdown",
   "id": "a720d909",
   "metadata": {},
   "source": [
    "While multiplication duplicates the list!"
   ]
  },
  {
   "cell_type": "code",
   "execution_count": 7,
   "id": "3081fd1d",
   "metadata": {},
   "outputs": [
    {
     "data": {
      "text/plain": [
       "[1, 2, 3, 1, 2, 3]"
      ]
     },
     "execution_count": 7,
     "metadata": {},
     "output_type": "execute_result"
    }
   ],
   "source": [
    "x_list * 2"
   ]
  },
  {
   "cell_type": "markdown",
   "id": "83903ecc",
   "metadata": {},
   "source": [
    "So always make sure you use arrays when you're planning to do math. You can convert a list to an array using `np.array`:"
   ]
  },
  {
   "cell_type": "code",
   "execution_count": 8,
   "id": "b9cbbfbf",
   "metadata": {},
   "outputs": [
    {
     "data": {
      "text/plain": [
       "array([2, 4, 6])"
      ]
     },
     "execution_count": 8,
     "metadata": {},
     "output_type": "execute_result"
    }
   ],
   "source": [
    "np.array(x_list) * 2"
   ]
  },
  {
   "cell_type": "markdown",
   "id": "4f10497f",
   "metadata": {},
   "source": [
    "### Shapes\n",
    "\n",
    "All arrays have a shape. You can see the shape with the `.shape` method. The number of numbers in the shape tell you the **dimension** of the array. The numbers themselves tell you how long each dimension is.\n",
    "\n",
    "The array we previously made was a vector of 3 numbers. So it have shape `(3, )` -- one dimension (vector) of length 3 (three numbers)."
   ]
  },
  {
   "cell_type": "code",
   "execution_count": 9,
   "id": "170e7e38",
   "metadata": {},
   "outputs": [
    {
     "data": {
      "text/plain": [
       "(3,)"
      ]
     },
     "execution_count": 9,
     "metadata": {},
     "output_type": "execute_result"
    }
   ],
   "source": [
    "x_array.shape"
   ]
  },
  {
   "cell_type": "markdown",
   "id": "9cb982e0",
   "metadata": {},
   "source": [
    "### Some useful functions\n",
    "\n",
    "Copy the following lines one-by-one into a new cells and run them. Also check their shapes. Try to predict the results before you run:\n",
    "\n",
    "- `np.linspace(0, 1, 100)`\n",
    "- `np.eye(10)`\n",
    "- `np.zeros((3, 1, 2, 2))`\n",
    "- `np.arange(42)`"
   ]
  },
  {
   "cell_type": "markdown",
   "id": "82eafe17",
   "metadata": {},
   "source": [
    "### Getting array values\n",
    "\n",
    "To access a specific value in array, you can provide an **index**. Note that in Python, the first index is *always* zero. Here's an example:"
   ]
  },
  {
   "cell_type": "code",
   "execution_count": 12,
   "id": "315e6d9e",
   "metadata": {},
   "outputs": [
    {
     "data": {
      "text/plain": [
       "array([0, 1, 2, 3, 4, 5, 6, 7, 8, 9])"
      ]
     },
     "execution_count": 12,
     "metadata": {},
     "output_type": "execute_result"
    }
   ],
   "source": [
    "x_array = np.arange(10)\n",
    "x_array"
   ]
  },
  {
   "cell_type": "markdown",
   "id": "c35898a9",
   "metadata": {},
   "source": [
    "Here we ask for the data at the 3rd index. Notice, though, that it's the 4th number (please count and confirm).\n",
    "\n",
    "What would be the output value of `x_array[0]`?"
   ]
  },
  {
   "cell_type": "code",
   "execution_count": 13,
   "id": "3cb04680",
   "metadata": {},
   "outputs": [
    {
     "data": {
      "text/plain": [
       "3"
      ]
     },
     "execution_count": 13,
     "metadata": {},
     "output_type": "execute_result"
    }
   ],
   "source": [
    "x_array[3]"
   ]
  },
  {
   "cell_type": "markdown",
   "id": "80b59ef4",
   "metadata": {},
   "source": [
    "If an array has multiple dimensions, you can index into all of them. Separate indicies with commas, like this:"
   ]
  },
  {
   "cell_type": "code",
   "execution_count": 14,
   "id": "d73e0144",
   "metadata": {},
   "outputs": [
    {
     "data": {
      "text/plain": [
       "array([[ 0,  1,  2,  3,  4],\n",
       "       [ 5,  6,  7,  8,  9],\n",
       "       [10, 11, 12, 13, 14],\n",
       "       [15, 16, 17, 18, 19],\n",
       "       [20, 21, 22, 23, 24]])"
      ]
     },
     "execution_count": 14,
     "metadata": {},
     "output_type": "execute_result"
    }
   ],
   "source": [
    "x_array_2d = np.arange(25).reshape(5, 5)\n",
    "x_array_2d"
   ]
  },
  {
   "cell_type": "code",
   "execution_count": 16,
   "id": "a8b2f501",
   "metadata": {},
   "outputs": [
    {
     "data": {
      "text/plain": [
       "19"
      ]
     },
     "execution_count": 16,
     "metadata": {},
     "output_type": "execute_result"
    }
   ],
   "source": [
    "# Get the data on the 3rd row and the 4th column (remember to start counting at 0!)\n",
    "x_array_2d[3, 4]"
   ]
  },
  {
   "cell_type": "markdown",
   "id": "c58f7758",
   "metadata": {},
   "source": [
    "On the other hand, you can an for all of the values in a dimension using `:`, like this:"
   ]
  },
  {
   "cell_type": "code",
   "execution_count": 17,
   "id": "955c4c0d",
   "metadata": {},
   "outputs": [
    {
     "data": {
      "text/plain": [
       "array([0, 1, 2, 3, 4])"
      ]
     },
     "execution_count": 17,
     "metadata": {},
     "output_type": "execute_result"
    }
   ],
   "source": [
    "# Get the entire first row\n",
    "x_array_2d[0, :]"
   ]
  },
  {
   "cell_type": "code",
   "execution_count": 18,
   "id": "6bf14035",
   "metadata": {},
   "outputs": [
    {
     "data": {
      "text/plain": [
       "array([ 2,  7, 12, 17, 22])"
      ]
     },
     "execution_count": 18,
     "metadata": {},
     "output_type": "execute_result"
    }
   ],
   "source": [
    "# Get the entire 2nd column\n",
    "x_array_2d[:, 2]"
   ]
  },
  {
   "cell_type": "markdown",
   "id": "08ba892f",
   "metadata": {},
   "source": [
    "Predict the output of the following commands:\n",
    "\n",
    "- `x_array_2d[1, 3]`\n",
    "- `x_array_2d[:, 4]`\n",
    "- `x_array_2d[:, :]`"
   ]
  },
  {
   "cell_type": "markdown",
   "id": "9f867ab3",
   "metadata": {},
   "source": [
    "### Setting Values\n",
    "\n",
    "All of that indexing has another use: saving data into arrays."
   ]
  },
  {
   "cell_type": "code",
   "execution_count": 19,
   "id": "844e8aff",
   "metadata": {},
   "outputs": [
    {
     "data": {
      "text/plain": [
       "array([0., 0., 0., 0., 0., 0., 0., 0., 0., 0.])"
      ]
     },
     "execution_count": 19,
     "metadata": {},
     "output_type": "execute_result"
    }
   ],
   "source": [
    "x_array = np.zeros(10)\n",
    "x_array"
   ]
  },
  {
   "cell_type": "code",
   "execution_count": 20,
   "id": "122e6943",
   "metadata": {},
   "outputs": [
    {
     "data": {
      "text/plain": [
       "array([  0.,   0.,   0., 100.,   0.,   0.,   0.,   0.,   0.,   0.])"
      ]
     },
     "execution_count": 20,
     "metadata": {},
     "output_type": "execute_result"
    }
   ],
   "source": [
    "x_array[3] = 100\n",
    "x_array"
   ]
  },
  {
   "cell_type": "code",
   "execution_count": 21,
   "id": "48dcc78c",
   "metadata": {},
   "outputs": [
    {
     "data": {
      "text/plain": [
       "array([0.6, 0.6, 0.6, 0.6, 0.6, 0.6, 0.6, 0.6, 0.6, 0.6])"
      ]
     },
     "execution_count": 21,
     "metadata": {},
     "output_type": "execute_result"
    }
   ],
   "source": [
    "x_array[:] = 0.6\n",
    "x_array"
   ]
  },
  {
   "cell_type": "markdown",
   "id": "2b1ff19c",
   "metadata": {},
   "source": [
    "### Assignment 3:\n",
    "\n",
    "Make an array of zeros with shape (10, 3). Make the first column all `1`, the second column all `2`, and the third column all `3`."
   ]
  },
  {
   "cell_type": "code",
   "execution_count": 22,
   "id": "41459bd5",
   "metadata": {},
   "outputs": [],
   "source": [
    "# YOUR CODE HERE"
   ]
  },
  {
   "cell_type": "markdown",
   "id": "f139114f",
   "metadata": {},
   "source": [
    "# Functions\n",
    "\n",
    "The last topic we need to cover is functions. Functions are like verbs -- they do actions. We use them when we want to compute the same thing over and over. Functions start with `def`, followed by a name followed by a list of **arguments**. These are the inputs to the function. \n",
    "\n",
    "Functions `return` a value. This is the output."
   ]
  },
  {
   "cell_type": "code",
   "execution_count": 24,
   "id": "efdabd04",
   "metadata": {},
   "outputs": [
    {
     "data": {
      "text/plain": [
       "array([1., 1., 1.])"
      ]
     },
     "execution_count": 24,
     "metadata": {},
     "output_type": "execute_result"
    }
   ],
   "source": [
    "# Start with def, then the name -- add_one in this case -- then the arguments -- x -- then a colon :\n",
    "def add_one(x):\n",
    "    # Notice that when we're inside the function, we need to tab over\n",
    "    return x + 1\n",
    "\n",
    "add_one(np.zeros(3))"
   ]
  },
  {
   "cell_type": "markdown",
   "id": "733bb7e0",
   "metadata": {},
   "source": [
    "In economics, functions are useful because they help us compute our models. For example, here's a simple consumpton function:\n",
    "\n",
    "$$C = a_0 + a_1 (Y - T)$$\n",
    "\n",
    "We can write a function that takes Y, T, a_0, a_1, and returns C"
   ]
  },
  {
   "cell_type": "code",
   "execution_count": 26,
   "id": "4d2a92f5",
   "metadata": {},
   "outputs": [
    {
     "data": {
      "text/plain": [
       "12.1"
      ]
     },
     "execution_count": 26,
     "metadata": {},
     "output_type": "execute_result"
    }
   ],
   "source": [
    "def C(Y, T, a0, a1):\n",
    "    return a0 + a1 * (Y - T)\n",
    "\n",
    "C(Y=10, T=3, a0=10, a1=0.3)"
   ]
  },
  {
   "cell_type": "markdown",
   "id": "98dd76df",
   "metadata": {},
   "source": [
    "Combining this with arrays is very powerful. We can compute $C$ on many values of $Y$ all in one shot by using an array"
   ]
  },
  {
   "cell_type": "code",
   "execution_count": 28,
   "id": "77fa84b6",
   "metadata": {},
   "outputs": [],
   "source": [
    "Y_values = np.linspace(0, 100, 1000)\n",
    "C_values = C(Y=Y_values, T=3, a0=10, a1=0.3)\n",
    "\n",
    "# Quiz -- what will be the output of C_values.shape?"
   ]
  },
  {
   "cell_type": "markdown",
   "id": "b95ce675",
   "metadata": {},
   "source": [
    "## Quick Aside: Plotting\n",
    "\n",
    "Making plots is a big topic, but to make a basic line plot, use `plt.plot`. Pass an array of x-values, then an array of y-values. It does the rest!"
   ]
  },
  {
   "cell_type": "code",
   "execution_count": 29,
   "id": "070899f9",
   "metadata": {},
   "outputs": [
    {
     "data": {
      "text/plain": [
       "[<matplotlib.lines.Line2D at 0x17f327bd060>]"
      ]
     },
     "execution_count": 29,
     "metadata": {},
     "output_type": "execute_result"
    },
    {
     "data": {
      "image/png": "[encoded data removed]",
      "text/plain": [
       "<Figure size 640x480 with 1 Axes>"
      ]
     },
     "metadata": {},
     "output_type": "display_data"
    }
   ],
   "source": [
    "plt.plot(Y_values, C_values)"
   ]
  },
  {
   "cell_type": "markdown",
   "id": "22ecbd28",
   "metadata": {},
   "source": [
    "## Assignment: IS-TR Model\n",
    "\n",
    "Next up are two functions that aren't finished. You need to fill them in.\n",
    "\n",
    "The first one, `compute_IS_curve`, is missing the **arguments**. You need to fill in the arguments so that it has all the information it needs to run. I recommend you put **array-valued variables**, like `Y`, first, and then scalar parameters like `b, d, a0, a1` etc. \n",
    "\n",
    "The second one, `compute_taylor_rule`, is missing the code to compute the taylor rule. Fill in the computation using the arguments in the function's signature. \n",
    "\n",
    "Remember that the taylor rule is:\n",
    "\n",
    "$$i = \\bar{i} + \\alpha(\\pi - \\bar{\\pi}) + \\beta(Y - \\bar{Y})$$"
   ]
  },
  {
   "cell_type": "code",
   "execution_count": null,
   "id": "6b0d6506",
   "metadata": {},
   "outputs": [],
   "source": [
    "def compute_IS_curve():    \n",
    "    K = 1 / (1 - b - d)\n",
    "    A = a0 + a1 * Ω - b * T_bar + c + G_bar\n",
    "\n",
    "    # IS Curve\n",
    "    IS_curve = (1 / e) * ((1 / K) * Y - A)\n",
    "    \n",
    "    return IS_curve\n",
    "\n",
    "def taylor_rule(Y, pi, α, β, Y_bar, i_bar, pi_bar):\n",
    "    taylor_rule = # YOUR CODE HERE\n",
    "    \n",
    "    return taylor_rule"
   ]
  },
  {
   "cell_type": "code",
   "execution_count": null,
   "id": "5426b019",
   "metadata": {},
   "outputs": [],
   "source": [
    "# Economic Variables\n",
    "Ω = 0\n",
    "T_bar = 0.1\n",
    "i = 1.04\n",
    "G_bar = 0.4\n",
    "\n",
    "# Parameters\n",
    "# Consumption\n",
    "a0 = 0\n",
    "a1 = 1\n",
    "b  = 0.4\n",
    "\n",
    "# Investment\n",
    "c = 1\n",
    "d = 0.3\n",
    "e = -0.9\n",
    "\n",
    "# Taylor Rule\n",
    "α = 0\n",
    "β = 0.3\n",
    "Y_bar = 2\n",
    "i_bar = 1\n",
    "pi = 2\n",
    "pi_bar = 2\n",
    "\n",
    "# Dependent variable\n",
    "Y = np.linspace(0, 5, 1000)\n",
    "\n",
    "# Remember to pass in the correct arguments to your function!\n",
    "IS_curve = compute_IS_curve(...)\n",
    "TR_curve = taylor_rule(Y=Y, α=α, pi=pi, β=β, Y_bar=Y_bar, i_bar=i_bar, pi_bar=pi_bar)"
   ]
  },
  {
   "cell_type": "markdown",
   "id": "be5eb506",
   "metadata": {},
   "source": [
    "## Assignment: Plot IS-TR Equlibrium"
   ]
  },
  {
   "cell_type": "code",
   "execution_count": null,
   "id": "db3aa9e5",
   "metadata": {},
   "outputs": [],
   "source": [
    "# YOUR CODE HERE"
   ]
  },
  {
   "cell_type": "markdown",
   "id": "816b0164",
   "metadata": {},
   "source": [
    "## Assignment: Add a shock\n",
    "\n",
    "Plot 2 IS curves on the same plot, one as before, and one with a government spending shock of `0.5`."
   ]
  },
  {
   "cell_type": "code",
   "execution_count": 31,
   "id": "3729d14a",
   "metadata": {},
   "outputs": [],
   "source": [
    "# Hint: If you do plt.plot multiple times, it will keep adding to the same \"canvas\". \n",
    "# YOUR MODE HERE"
   ]
  },
  {
   "cell_type": "markdown",
   "id": "62ca1048",
   "metadata": {},
   "source": []
  }
 ],
 "metadata": {
  "kernelspec": {
   "display_name": "Python 3 (ipykernel)",
   "language": "python",
   "name": "python3"
  },
  "language_info": {
   "codemirror_mode": {
    "name": "ipython",
    "version": 3
   },
   "file_extension": ".py",
   "mimetype": "text/x-python",
   "name": "python",
   "nbconvert_exporter": "python",
   "pygments_lexer": "ipython3",
   "version": "3.10.12"
  },
  "toc": {
   "base_numbering": 1,
   "nav_menu": {},
   "number_sections": true,
   "sideBar": true,
   "skip_h1_title": false,
   "title_cell": "Table of Contents",
   "title_sidebar": "Contents",
   "toc_cell": true,
   "toc_position": {},
   "toc_section_display": true,
   "toc_window_display": false
  }
 },
 "nbformat": 4,
 "nbformat_minor": 5
}
